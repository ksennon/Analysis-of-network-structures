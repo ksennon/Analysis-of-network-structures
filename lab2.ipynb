{
 "cells": [
  {
   "cell_type": "markdown",
   "id": "89002715-463e-4c40-a664-4aac885562ec",
   "metadata": {},
   "source": [
    "### Початкова мережа для стану t0"
   ]
  },
  {
   "cell_type": "code",
   "execution_count": null,
   "id": "10752d59-5751-4dd5-b05b-2512d3949897",
   "metadata": {},
   "outputs": [],
   "source": [
    "import networkx as nx\n",
    "import matplotlib.pyplot as plt\n",
    "\n",
    "def visualize_graph(graph, title, pos=None):\n",
    "    plt.figure(figsize=(3, 3))\n",
    "    if pos is None:\n",
    "        pos = nx.spring_layout(graph)  \n",
    "    nx.draw(graph, pos, with_labels=True, node_size=500, node_color=\"skyblue\", font_size=8)\n",
    "    plt.title(title)\n",
    "    plt.show()\n",
    "\n",
    "G_t0 = nx.erdos_renyi_graph(n=6, p=0.3)  \n",
    "visualize_graph(G_t0, \"Початкова мережа (t0)\")"
   ]
  },
  {
   "cell_type": "markdown",
   "id": "1e525dfa-c82e-463f-9358-427faf00f4d5",
   "metadata": {},
   "source": [
    "### Побудова мереж"
   ]
  },
  {
   "cell_type": "code",
   "execution_count": null,
   "id": "e7c780c4-7ad6-46f1-8b25-05a68c5aecaf",
   "metadata": {},
   "outputs": [],
   "source": [
    "# Масштабно-інваріантна мережа\n",
    "ba_graph = nx.barabasi_albert_graph(n=900, m=5)\n",
    "\n",
    "steps = [1, 2, 5, 10, 200, 400, 1000]\n",
    "\n",
    "for t in steps:\n",
    "    subgraph = ba_graph.subgraph(range(t + 1))\n",
    "    visualize_graph(subgraph, f\"Barabasi–Albert на етапі t = {t}\")"
   ]
  },
  {
   "cell_type": "code",
   "execution_count": null,
   "id": "45a6fd9d-cb4e-47b5-b0d8-3d7d30e14e83",
   "metadata": {},
   "outputs": [],
   "source": [
    "# Випадкова мережа Ердоша-Рені\n",
    "random_graph = nx.erdos_renyi_graph(n=900, p=0.15)\n",
    "\n",
    "for t in steps:\n",
    "    subgraph = random_graph.subgraph(range(t + 1))\n",
    "    visualize_graph(subgraph, f\"Випадкова мережа Ердоша-Рені на етапі t = {t}\")"
   ]
  },
  {
   "cell_type": "code",
   "execution_count": null,
   "id": "26efa33a-b40b-45e9-bc73-75f6c79e58d8",
   "metadata": {
    "scrolled": true
   },
   "outputs": [],
   "source": [
    "# Щільна мережа\n",
    "dense_graph = nx.dense_gnm_random_graph(n=900, m=50000) \n",
    "\n",
    "for t in steps:\n",
    "    subgraph = dense_graph.subgraph(range(t + 1))\n",
    "    visualize_graph(subgraph, f\"Щільна мережа на етапі t = {t}\")"
   ]
  },
  {
   "cell_type": "markdown",
   "id": "30cd49ee-0e71-40ae-a98f-35b9809f690c",
   "metadata": {},
   "source": [
    "### Результат розподілу"
   ]
  },
  {
   "cell_type": "code",
   "execution_count": null,
   "id": "6adb8521-8681-4766-ad2c-cc7dfac0c991",
   "metadata": {},
   "outputs": [],
   "source": [
    "import numpy as np\n",
    "from scipy.interpolate import make_interp_spline\n",
    "\n",
    "# Степеневий розподіл для різних мереж\n",
    "degree_sequence_ba = sorted([d for n, d in ba_graph.degree()], reverse=True)\n",
    "degree_sequence_random = sorted([d for n, d in random_graph.degree()], reverse=True)\n",
    "degree_sequence_dense = sorted([d for n, d in dense_graph.degree()], reverse=True)\n",
    "\n",
    "def plot_log_binned_distribution(min_comments, ax, title, degree_sequence):\n",
    "    filtered_degrees = [d for d in degree_sequence if d >= min_comments]\n",
    "    \n",
    "    # Лог-бінінг\n",
    "    bins = np.logspace(np.log10(min(filtered_degrees)), np.log10(max(filtered_degrees)), num=20)\n",
    "    hist, edges = np.histogram(filtered_degrees, bins=bins, density=True)\n",
    "    bin_centers = 0.5 * (edges[1:] + edges[:-1])\n",
    "    \n",
    "    non_zero_mask = hist > 0\n",
    "    bin_centers = bin_centers[non_zero_mask]\n",
    "    hist = hist[non_zero_mask]\n",
    "    \n",
    "    ax.plot(bin_centers, hist, 'o', markersize=8, color='r', label=f'comments >= {min_comments}')\n",
    "    \n",
    "    # Сплайн\n",
    "    x_smooth = np.logspace(np.log10(min(bin_centers)), np.log10(max(bin_centers)), 200)\n",
    "    spline = make_interp_spline(np.log10(bin_centers), np.log10(hist), k=3)\n",
    "    y_smooth = spline(np.log10(x_smooth))\n",
    "    \n",
    "    # Сплайн-фіт\n",
    "    ax.plot(x_smooth, 10**y_smooth, linestyle='-', color='b', label=f'Сплайн фіт')\n",
    "\n",
    "    ax.set_xscale('log')\n",
    "    ax.set_yscale('log')\n",
    "    ax.grid(True, which=\"both\", ls=\"--\")\n",
    "    ax.set_xlabel('Node Degree k')\n",
    "    ax.set_ylabel('Number of Nodes')\n",
    "    ax.legend()\n",
    "    ax.set_title(title)"
   ]
  },
  {
   "cell_type": "code",
   "execution_count": null,
   "id": "9252608b-2fd9-4946-a54b-caf5d8e3209f",
   "metadata": {},
   "outputs": [],
   "source": [
    "fig, axs = plt.subplots(3, 3, figsize=(18, 25))\n",
    "axs = axs.flatten()\n",
    "\n",
    "thresholds = [20, 5, 1]\n",
    "\n",
    "for i, th in enumerate(thresholds):\n",
    "    plot_log_binned_distribution(th, axs[i], f'Масштабно-інваріантна мережа, comments >= {th}', degree_sequence_ba)\n",
    "    plot_log_binned_distribution(th, axs[i + 3], f'Випадкова мережа comments >= {th}', degree_sequence_random)\n",
    "    plot_log_binned_distribution(th, axs[i + 6], f'Щільна мережа comments >= {th}', degree_sequence_dense)\n",
    "\n",
    "plt.tight_layout()\n",
    "plt.show()"
   ]
  }
 ],
 "metadata": {
  "kernelspec": {
   "display_name": "Python 3 (ipykernel)",
   "language": "python",
   "name": "python3"
  },
  "language_info": {
   "codemirror_mode": {
    "name": "ipython",
    "version": 3
   },
   "file_extension": ".py",
   "mimetype": "text/x-python",
   "name": "python",
   "nbconvert_exporter": "python",
   "pygments_lexer": "ipython3",
   "version": "3.11.5"
  }
 },
 "nbformat": 4,
 "nbformat_minor": 5
}
